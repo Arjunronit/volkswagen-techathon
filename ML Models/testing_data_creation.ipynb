{
 "cells": [
  {
   "cell_type": "code",
   "execution_count": 1,
   "metadata": {},
   "outputs": [],
   "source": [
    "import pandas as pd\n",
    "import random"
   ]
  },
  {
   "cell_type": "code",
   "execution_count": 2,
   "metadata": {},
   "outputs": [],
   "source": [
    "# Define the number of data points you want in your simulated dataset\n",
    "num_data_points = 1000\n",
    "\n"
   ]
  },
  {
   "cell_type": "code",
   "execution_count": 3,
   "metadata": {},
   "outputs": [],
   "source": [
    "# Create lists to store data\n",
    "years = []\n",
    "selling_prices = []\n",
    "km_driven = []"
   ]
  },
  {
   "cell_type": "code",
   "execution_count": 4,
   "metadata": {},
   "outputs": [],
   "source": [
    "\n",
    "# Generate random data for the features\n",
    "for _ in range(num_data_points):\n",
    "    years.append(random.randint(2000, 2023))  # Random year between 2000 and 2023\n",
    "    selling_prices.append(random.randint(5000, 50000))  # Random selling price\n",
    "    km_driven.append(random.randint(1000, 150000))  # Random kilometers driven"
   ]
  },
  {
   "cell_type": "code",
   "execution_count": 5,
   "metadata": {},
   "outputs": [],
   "source": [
    "\n",
    "# Create a DataFrame to store the simulated data\n",
    "data = pd.DataFrame({\n",
    "    'year': years,\n",
    "    'selling_price': selling_prices,\n",
    "    'km_driven': km_driven\n",
    "})\n"
   ]
  },
  {
   "cell_type": "code",
   "execution_count": 6,
   "metadata": {},
   "outputs": [],
   "source": [
    "# Save the simulated data to a CSV file\n",
    "data.to_csv('simulated_car_data.csv', index=False)"
   ]
  }
 ],
 "metadata": {
  "kernelspec": {
   "display_name": "Python 3",
   "language": "python",
   "name": "python3"
  },
  "language_info": {
   "codemirror_mode": {
    "name": "ipython",
    "version": 3
   },
   "file_extension": ".py",
   "mimetype": "text/x-python",
   "name": "python",
   "nbconvert_exporter": "python",
   "pygments_lexer": "ipython3",
   "version": "3.8.5"
  }
 },
 "nbformat": 4,
 "nbformat_minor": 2
}
